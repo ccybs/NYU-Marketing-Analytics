{
 "cells": [
  {
   "cell_type": "markdown",
   "id": "ce13b7a9",
   "metadata": {},
   "source": [
    "# Data process"
   ]
  },
  {
   "cell_type": "code",
   "execution_count": 1,
   "id": "1c54887c",
   "metadata": {},
   "outputs": [],
   "source": [
    "import pandas as pd\n",
    "import numpy\n",
    "df = pd.read_csv('AB_test_data.csv')"
   ]
  },
  {
   "cell_type": "code",
   "execution_count": 2,
   "id": "cc912a72",
   "metadata": {},
   "outputs": [],
   "source": [
    "df_A = df[df['Variant'] == 'A']\n",
    "df_B = df[df['Variant'] == 'B']"
   ]
  },
  {
   "cell_type": "markdown",
   "id": "fb001ad6",
   "metadata": {},
   "source": [
    "# test1"
   ]
  },
  {
   "cell_type": "code",
   "execution_count": 3,
   "id": "d0fb0b7c",
   "metadata": {
    "scrolled": true
   },
   "outputs": [
    {
     "name": "stdout",
     "output_type": "stream",
     "text": [
      "5.334071792564316\n"
     ]
    }
   ],
   "source": [
    "t = (df_B['purchase_TF'].mean() - df_A['purchase_TF'].mean()) / numpy.sqrt((df['purchase_TF'].mean() * (1-df['purchase_TF'].mean())) * (1 / (len(df_B['purchase_TF'])+ 1 / len(df_A['purchase_TF']))))\n",
    "print(t)"
   ]
  },
  {
   "cell_type": "markdown",
   "id": "0bae5954",
   "metadata": {},
   "source": [
    "# test2"
   ]
  },
  {
   "cell_type": "code",
   "execution_count": 9,
   "id": "24f006f4",
   "metadata": {},
   "outputs": [
    {
     "name": "stdout",
     "output_type": "stream",
     "text": [
      "The sample size is: 2218.\n"
     ]
    }
   ],
   "source": [
    "p0 = df_A['purchase_TF'].mean()\n",
    "p1 = df_B['purchase_TF'].mean()\n",
    "t_a = 1.645\n",
    "t_b = 0.84\n",
    "p_mean = df['purchase_TF'].mean()\n",
    "min_effect = abs(p1 - p0)\n",
    "n = ((t_a) * numpy.sqrt(2 * p_mean * (1 - p_mean)) + t_b * numpy.sqrt( p0 * (1 - p0) + p1 * (1 - p1))) ** 2 / (min_effect * min_effect)\n",
    "n = int(n) + 1\n",
    "print('The sample size is: %d.'%n)"
   ]
  },
  {
   "cell_type": "code",
   "execution_count": 18,
   "id": "a06a9593",
   "metadata": {},
   "outputs": [
    {
     "name": "stdout",
     "output_type": "stream",
     "text": [
      "reject H0\n",
      "reject H0\n",
      "reject H0\n",
      "reject H0\n",
      "reject H0\n",
      "reject H0\n",
      "reject H0\n",
      "accept H0\n",
      "reject H0\n",
      "reject H0\n"
     ]
    }
   ],
   "source": [
    "sample = []\n",
    "for i in range(10):\n",
    "    sample_A =  df_A.sample(n)\n",
    "    sample_B =  df_B.sample(n)\n",
    "    t1 = (sample_B['purchase_TF'].mean() - sample_A['purchase_TF'].mean()) / numpy.sqrt((sample_A['purchase_TF'].var()+sample_B['purchase_TF'].var()) / n)\n",
    "    sample.append([sample_A, sample_B])\n",
    "    if t1 > t_a:\n",
    "        print('reject H0')\n",
    "    else:\n",
    "        print('accept H0')"
   ]
  },
  {
   "cell_type": "markdown",
   "id": "4f46bd2e",
   "metadata": {},
   "source": [
    "# test 3"
   ]
  },
  {
   "cell_type": "markdown",
   "id": "97538e50",
   "metadata": {},
   "source": [
    "# conservative"
   ]
  },
  {
   "cell_type": "code",
   "execution_count": 30,
   "id": "e09a51fa",
   "metadata": {},
   "outputs": [
    {
     "name": "stdout",
     "output_type": "stream",
     "text": [
      "stop early, accept H0\n",
      "stop early, accept H0\n",
      "stop early, reject H0\n",
      "stop early, accept H0\n",
      "stop early, accept H0\n",
      "stop early, reject H0\n",
      "stop early, accept H0\n",
      "stop early, reject H0\n",
      "stop early, accept H0\n",
      "stop early, accept H0\n",
      "the average number of iterations is: 714.800000.\n"
     ]
    }
   ],
   "source": [
    "boundary_wald_low = numpy.log(0.2 / (1 - 0.05))\n",
    "boundary_wald_high = numpy.log((1 - 0.2) / 0.05)\n",
    "boundary_conservative_low = numpy.log(0.2)\n",
    "boundary_conservative_high = numpy.log(1 / 0.05)\n",
    "f_1 = numpy.log(p1 / p0)\n",
    "f_0 = numpy.log((1 - p1) / (1 - p0))\n",
    "count_list = []\n",
    "for j in range(10):\n",
    "    summary = 0\n",
    "    count = 0\n",
    "    sample_A = sample[j][0]\n",
    "    sample_B = sample[j][1]\n",
    "    sample_combine = pd.concat([sample_A, sample_B])\n",
    "    sample_random = sample_combine.sample(frac=1.0)\n",
    "    for i in range(len(sample_random)):\n",
    "        count += 1\n",
    "        if sample_random['purchase_TF'].values[i] == 1:\n",
    "            summary += f_1\n",
    "            if summary > boundary_conservative_high:\n",
    "                print('stop early, reject H0')\n",
    "                count_list.append(count)                \n",
    "                break\n",
    "        else:\n",
    "            summary += f_0\n",
    "            if summary < boundary_conservative_low:\n",
    "                print('stop early, accept H0')\n",
    "                count_list.append(count) \n",
    "                break\n",
    "        if count == len(sample_random):\n",
    "            print('use the full sample')\n",
    "            count_list.append(count)\n",
    "total = 0\n",
    "for i in range(10):\n",
    "    total += count_list[i]\n",
    "average = total / 10\n",
    "print('the average number of iterations is: %f.'%average)"
   ]
  },
  {
   "cell_type": "markdown",
   "id": "72e8f1dd",
   "metadata": {},
   "source": [
    "# wald"
   ]
  },
  {
   "cell_type": "code",
   "execution_count": 37,
   "id": "3fb571eb",
   "metadata": {},
   "outputs": [
    {
     "name": "stdout",
     "output_type": "stream",
     "text": [
      "stop early, reject H0\n",
      "stop early, accept H0\n",
      "stop early, reject H0\n",
      "stop early, reject H0\n",
      "stop early, reject H0\n",
      "stop early, reject H0\n",
      "stop early, accept H0\n",
      "stop early, accept H0\n",
      "stop early, accept H0\n",
      "stop early, reject H0\n",
      "the average number of iterations is: 622.400000.\n"
     ]
    }
   ],
   "source": [
    "count_list = []\n",
    "for j in range(10):\n",
    "    summary = 0\n",
    "    count = 0\n",
    "    sample_A = sample[j][0]\n",
    "    sample_B = sample[j][1]\n",
    "    sample_combine = pd.concat([sample_A, sample_B])\n",
    "    sample_random = sample_combine.sample(frac=1.0)\n",
    "    for i in range(len(sample_random)):\n",
    "        count += 1\n",
    "        if sample_random['purchase_TF'].values[i] == 1:\n",
    "            summary += f_1\n",
    "            if summary > boundary_wald_high:\n",
    "                print('stop early, reject H0')\n",
    "                count_list.append(count)                \n",
    "                break\n",
    "        else:\n",
    "            summary += f_0\n",
    "            if summary < boundary_wald_low:\n",
    "                print('stop early, accept H0')\n",
    "                count_list.append(count) \n",
    "                break\n",
    "        if count == len(sample_random):\n",
    "            print('use the full sample')\n",
    "            count_list.append(count)\n",
    "total = 0\n",
    "for i in range(10):\n",
    "    total += count_list[i]\n",
    "average = total / 10\n",
    "print('the average number of iterations is: %f.'%average)"
   ]
  },
  {
   "cell_type": "code",
   "execution_count": null,
   "id": "83c4ea3c",
   "metadata": {},
   "outputs": [],
   "source": []
  }
 ],
 "metadata": {
  "kernelspec": {
   "display_name": "Python [conda env:py39_64]",
   "language": "python",
   "name": "conda-env-py39_64-py"
  },
  "language_info": {
   "codemirror_mode": {
    "name": "ipython",
    "version": 3
   },
   "file_extension": ".py",
   "mimetype": "text/x-python",
   "name": "python",
   "nbconvert_exporter": "python",
   "pygments_lexer": "ipython3",
   "version": "3.9.13"
  }
 },
 "nbformat": 4,
 "nbformat_minor": 5
}
